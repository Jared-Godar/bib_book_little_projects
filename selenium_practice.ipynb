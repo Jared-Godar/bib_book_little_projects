{
 "cells": [
  {
   "cell_type": "markdown",
   "metadata": {},
   "source": [
    "# Selenium in Python\n",
    "\n",
    "[Reference](https://billybonaros.medium.com/selenium-in-python-b2faa6dd6e76)"
   ]
  },
  {
   "cell_type": "markdown",
   "metadata": {},
   "source": [
    "---\n",
    "## Ex1: Automatically search Google"
   ]
  },
  {
   "cell_type": "code",
   "execution_count": 4,
   "metadata": {},
   "outputs": [],
   "source": [
    "from selenium import webdriver\n",
    "from selenium.webdriver.common.keys import Keys\n",
    "from selenium.webdriver.common.action_chains import ActionChains\n",
    "import pandas as pd\n",
    "import pickle\n",
    "import time\n",
    " \n"
   ]
  },
  {
   "cell_type": "code",
   "execution_count": 20,
   "metadata": {},
   "outputs": [
    {
     "name": "stderr",
     "output_type": "stream",
     "text": [
      "/var/folders/9y/17ptyrds267724n2_7s7hx340000gn/T/ipykernel_52209/2927969494.py:2: DeprecationWarning: executable_path has been deprecated, please pass in a Service object\n",
      "  driver = webdriver.Chrome(os.path.abspath('chromedriver'))\n"
     ]
    }
   ],
   "source": [
    "path =  '/Users/jaredgodar/codeup-data-science/little_projects/'\n",
    "driver = webdriver.Chrome(os.path.abspath('chromedriver'))\n"
   ]
  },
  {
   "cell_type": "code",
   "execution_count": 25,
   "metadata": {},
   "outputs": [],
   "source": [
    "driver.get(\"https://www.google.com\")"
   ]
  },
  {
   "cell_type": "markdown",
   "metadata": {},
   "source": [
    "Asking to sign in vs no thanks. Must identigy the element in HTML. Right-clich, inspect element. pointer tool. Right click, copy **full XPath**\n"
   ]
  },
  {
   "cell_type": "code",
   "execution_count": 27,
   "metadata": {},
   "outputs": [],
   "source": [
    "#here you should add the XPath of the 'No thanks' button\n",
    "#item=driver.find_element_by_xpath(\"/html/body/div/c-wiz/div/div/c-wiz/div/div/div/div[2]/div[2]\")\n",
    " \n",
    "#Then we need to add an action to it. We want to click it so we will use the following\n",
    "#item.click()"
   ]
  },
  {
   "cell_type": "code",
   "execution_count": 28,
   "metadata": {},
   "outputs": [
    {
     "name": "stderr",
     "output_type": "stream",
     "text": [
      "/var/folders/9y/17ptyrds267724n2_7s7hx340000gn/T/ipykernel_52209/3088180997.py:2: DeprecationWarning: find_element_by_xpath is deprecated. Please use find_element(by=By.XPATH, value=xpath) instead\n",
      "  item=driver.find_element_by_xpath('/html/body/div[1]/div[3]/form/div[1]/div[1]/div[1]/div/div[2]/input')\n"
     ]
    }
   ],
   "source": [
    "#identify the search bar\n",
    "item=driver.find_element_by_xpath('/html/body/div[1]/div[3]/form/div[1]/div[1]/div[1]/div/div[2]/input')\n",
    "item.click()\n",
    " \n",
    "#actions allows you to \"press\" keys. Here we are going to write \n",
    "#predictive hacks using the .send_keys and the perform the action.\n",
    "actions = ActionChains(driver)\n",
    "actions.send_keys(\"predictive hacks\")\n",
    "actions.perform()\n",
    " \n",
    " \n",
    "#using send_keys we can also press ENTER as follows\n",
    "actions.send_keys(Keys.ENTER)\n",
    "actions.perform()"
   ]
  },
  {
   "cell_type": "code",
   "execution_count": 29,
   "metadata": {},
   "outputs": [
    {
     "data": {
      "text/plain": [
       "True"
      ]
     },
     "execution_count": 29,
     "metadata": {},
     "output_type": "execute_result"
    }
   ],
   "source": [
    "driver.save_screenshot('screenshoot.png')\n"
   ]
  },
  {
   "cell_type": "code",
   "execution_count": 32,
   "metadata": {},
   "outputs": [
    {
     "name": "stderr",
     "output_type": "stream",
     "text": [
      "/var/folders/9y/17ptyrds267724n2_7s7hx340000gn/T/ipykernel_52209/2816329487.py:7: DeprecationWarning: executable_path has been deprecated, please pass in a Service object\n",
      "  driver = webdriver.Chrome(os.path.abspath('chromedriver'))\n"
     ]
    }
   ],
   "source": [
    "from selenium import webdriver\n",
    "from selenium.webdriver.common.keys import Keys\n",
    "from selenium.webdriver.common.action_chains import ActionChains\n",
    "import pandas as pd\n",
    " \n",
    "path =  '/Users/jaredgodar/codeup-data-science/little_projects/'\n",
    "driver = webdriver.Chrome(os.path.abspath('chromedriver'))\n",
    "driver.get('https://www.google.com/')\n",
    "\n",
    "#here you should add the XPath of the 'No thanks' button\n",
    "#item=driver.find_element_by_xpath(\"/html/body/div/c-wiz/div/div/c-wiz/div/div/div/div[2]/div[2]\")\n",
    " \n",
    "#Then we need to add an action to it. We want to click it so we will use the following\n",
    "#item.click()\n",
    " \n",
    "#item=driver.find_element_by_xpath(\"/html/body/div[2]/div[2]/div[3]/span/div/div/div/div[3]/button[2]/div\")\n",
    "#item.click()\n"
   ]
  },
  {
   "cell_type": "code",
   "execution_count": 42,
   "metadata": {},
   "outputs": [],
   "source": [
    "def search_and_screenshot(text):\n",
    "    driver.get('https://www.google.com/')\n",
    "    item=driver.find_element_by_xpath('/html/body/div[1]/div[3]/form/div[1]/div[1]/div[1]/div/div[2]/input')\n",
    "   # item=driver.find_element(By.XPATH, value=\"/html/body/div[1]/div[3]/form/div[1]/div[1]/div[1]/div/div[2]/input\")\n",
    "    item.click()\n",
    " \n",
    "    actions = ActionChains(driver)\n",
    "    actions.send_keys(text)\n",
    " \n",
    "    actions.perform()\n",
    " \n",
    " \n",
    "    actions.send_keys(Keys.ENTER)\n",
    "    actions.perform()\n",
    " \n",
    " \n",
    "    driver.save_screenshot(f'screenshot_{text}.png')"
   ]
  },
  {
   "cell_type": "code",
   "execution_count": 43,
   "metadata": {},
   "outputs": [
    {
     "name": "stderr",
     "output_type": "stream",
     "text": [
      "/var/folders/9y/17ptyrds267724n2_7s7hx340000gn/T/ipykernel_52209/2806849320.py:3: DeprecationWarning: find_element_by_xpath is deprecated. Please use find_element(by=By.XPATH, value=xpath) instead\n",
      "  item=driver.find_element_by_xpath('/html/body/div[1]/div[3]/form/div[1]/div[1]/div[1]/div/div[2]/input')\n"
     ]
    }
   ],
   "source": [
    "search_and_screenshot('When do the astros play next')"
   ]
  },
  {
   "cell_type": "code",
   "execution_count": null,
   "metadata": {},
   "outputs": [],
   "source": []
  }
 ],
 "metadata": {
  "interpreter": {
   "hash": "38cca0c38332a56087b24af0bc80247f4fced29cb4f7f437d91dc159adec9c4e"
  },
  "kernelspec": {
   "display_name": "Python 3.8.12 ('base')",
   "language": "python",
   "name": "python3"
  },
  "language_info": {
   "codemirror_mode": {
    "name": "ipython",
    "version": 3
   },
   "file_extension": ".py",
   "mimetype": "text/x-python",
   "name": "python",
   "nbconvert_exporter": "python",
   "pygments_lexer": "ipython3",
   "version": "3.8.12"
  },
  "orig_nbformat": 4
 },
 "nbformat": 4,
 "nbformat_minor": 2
}
